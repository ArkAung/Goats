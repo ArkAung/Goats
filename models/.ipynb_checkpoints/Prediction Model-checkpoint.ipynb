{
 "cells": [
  {
   "cell_type": "code",
   "execution_count": 5,
   "metadata": {
    "collapsed": false,
    "deletable": true,
    "editable": true
   },
   "outputs": [],
   "source": [
    "import keras\n",
    "from keras.models import load_model\n",
    "import numpy as np\n",
    "from PIL import Image\n",
    "import sys\n",
    "\n",
    "\n",
    "def predict(model, input_image):\n",
    "    predictions = model.predict(input_image)\n",
    "    return predictions\n",
    "\n",
    "def image_process(filename):\n",
    "    im=Image.open(filename)\n",
    "    im = im.resize((100,100),Image.ANTIALIAS)\n",
    "    w, h = im.size\n",
    "    cropped_image = im.crop((10, 10, w-10, h-10))\n",
    "    numpy_arr = np.asarray(cropped_image)\n",
    "    return numpy_arr\n",
    "\n",
    "input_file = sys.argv[1]\n",
    "model = load_model('melanoma.h5')\n",
    "image = image_process(input_file)\n",
    "prediction = predict(model, image)\n",
    "percentage = np.max(prediction) * 100\n",
    "pred_class = np.argmax(prediction)\n",
    "if pred_class == 0:\n",
    "    output_string = \"Benign\"\n",
    "else:\n",
    "    output_string = \"Malignant\"\n",
    "    \n",
    "print \"From the looks of this patch of skin, it is {} with {}%\".format(output_string,percentage)"
   ]
  }
 ],
 "metadata": {
  "kernelspec": {
   "display_name": "Python 2",
   "language": "python",
   "name": "python2"
  },
  "language_info": {
   "codemirror_mode": {
    "name": "ipython",
    "version": 2
   },
   "file_extension": ".py",
   "mimetype": "text/x-python",
   "name": "python",
   "nbconvert_exporter": "python",
   "pygments_lexer": "ipython2",
   "version": "2.7.12"
  }
 },
 "nbformat": 4,
 "nbformat_minor": 2
}
